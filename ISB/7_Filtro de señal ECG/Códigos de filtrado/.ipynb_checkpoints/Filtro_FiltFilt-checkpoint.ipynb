{
 "cells": [
  {
   "cell_type": "code",
   "execution_count": 1,
   "metadata": {},
   "outputs": [
    {
     "ename": "ModuleNotFoundError",
     "evalue": "No module named 'bokeh.plotting.figure'",
     "output_type": "error",
     "traceback": [
      "\u001b[1;31m---------------------------------------------------------------------------\u001b[0m",
      "\u001b[1;31mModuleNotFoundError\u001b[0m                       Traceback (most recent call last)",
      "Cell \u001b[1;32mIn[1], line 2\u001b[0m\n\u001b[0;32m      1\u001b[0m \u001b[39m# biosignalsnotebooks own package for loading and plotting the acquired data\u001b[39;00m\n\u001b[1;32m----> 2\u001b[0m \u001b[39mimport\u001b[39;00m \u001b[39mbiosignalsnotebooks\u001b[39;00m \u001b[39mas\u001b[39;00m \u001b[39mbsnb\u001b[39;00m\n\u001b[0;32m      4\u001b[0m \u001b[39m# Scientific packages\u001b[39;00m\n\u001b[0;32m      5\u001b[0m \u001b[39mfrom\u001b[39;00m \u001b[39mnumpy\u001b[39;00m \u001b[39mimport\u001b[39;00m arange, sin, pi\n",
      "File \u001b[1;32mc:\\Users\\mauri\\AppData\\Local\\Programs\\Python\\Python311\\Lib\\site-packages\\biosignalsnotebooks\\__init__.py:68\u001b[0m\n\u001b[0;32m      1\u001b[0m \u001b[39m\"\"\"\u001b[39;00m\n\u001b[0;32m      2\u001b[0m \u001b[39mOPENSIGNALSFACTORY PACKAGE INITIALISATION FILE (WITH IMPORT STATEMENTS)\u001b[39;00m\n\u001b[0;32m      3\u001b[0m \n\u001b[1;32m   (...)\u001b[0m\n\u001b[0;32m     64\u001b[0m \u001b[39m/\\\u001b[39;00m\n\u001b[0;32m     65\u001b[0m \u001b[39m\"\"\"\u001b[39;00m\n\u001b[0;32m     67\u001b[0m \u001b[39mfrom\u001b[39;00m \u001b[39m.\u001b[39;00m\u001b[39mconversion\u001b[39;00m \u001b[39mimport\u001b[39;00m \u001b[39m*\u001b[39m\n\u001b[1;32m---> 68\u001b[0m \u001b[39mfrom\u001b[39;00m \u001b[39m.\u001b[39;00m\u001b[39mdetect\u001b[39;00m \u001b[39mimport\u001b[39;00m \u001b[39m*\u001b[39m\n\u001b[0;32m     69\u001b[0m \u001b[39mfrom\u001b[39;00m \u001b[39m.\u001b[39;00m\u001b[39mextract\u001b[39;00m \u001b[39mimport\u001b[39;00m \u001b[39m*\u001b[39m\n\u001b[0;32m     70\u001b[0m \u001b[39mfrom\u001b[39;00m \u001b[39m.\u001b[39;00m\u001b[39mload\u001b[39;00m \u001b[39mimport\u001b[39;00m \u001b[39m*\u001b[39m\n",
      "File \u001b[1;32mc:\\Users\\mauri\\AppData\\Local\\Programs\\Python\\Python311\\Lib\\site-packages\\biosignalsnotebooks\\detect.py:65\u001b[0m\n\u001b[0;32m      2\u001b[0m \u001b[39m\"\"\"\u001b[39;00m\n\u001b[0;32m      3\u001b[0m \u001b[39mList of functions intended to detect events in the acquired data.\u001b[39;00m\n\u001b[0;32m      4\u001b[0m \n\u001b[1;32m   (...)\u001b[0m\n\u001b[0;32m     61\u001b[0m \u001b[39m/\\\u001b[39;00m\n\u001b[0;32m     62\u001b[0m \u001b[39m\"\"\"\u001b[39;00m\n\u001b[0;32m     64\u001b[0m \u001b[39mfrom\u001b[39;00m \u001b[39m.\u001b[39;00m\u001b[39mconversion\u001b[39;00m \u001b[39mimport\u001b[39;00m raw_to_phy\n\u001b[1;32m---> 65\u001b[0m \u001b[39mfrom\u001b[39;00m \u001b[39m.\u001b[39;00m\u001b[39mvisualise\u001b[39;00m \u001b[39mimport\u001b[39;00m plot, opensignals_kwargs, opensignals_style, opensignals_color_pallet\n\u001b[0;32m     66\u001b[0m \u001b[39mfrom\u001b[39;00m \u001b[39m.\u001b[39;00m\u001b[39maux_functions\u001b[39;00m \u001b[39mimport\u001b[39;00m _butter_bandpass_filter, _moving_average\n\u001b[0;32m     68\u001b[0m \u001b[39mimport\u001b[39;00m \u001b[39mnumpy\u001b[39;00m\n",
      "File \u001b[1;32mc:\\Users\\mauri\\AppData\\Local\\Programs\\Python\\Python311\\Lib\\site-packages\\biosignalsnotebooks\\visualise.py:46\u001b[0m\n\u001b[0;32m     44\u001b[0m \u001b[39mfrom\u001b[39;00m \u001b[39mbokeh\u001b[39;00m\u001b[39m.\u001b[39;00m\u001b[39mmodels\u001b[39;00m\u001b[39m.\u001b[39;00m\u001b[39mtools\u001b[39;00m \u001b[39mimport\u001b[39;00m PanTool, ResetTool, BoxZoomTool, WheelZoomTool\n\u001b[0;32m     45\u001b[0m \u001b[39mfrom\u001b[39;00m \u001b[39mbokeh\u001b[39;00m\u001b[39m.\u001b[39;00m\u001b[39mmodels\u001b[39;00m\u001b[39m.\u001b[39;00m\u001b[39mglyphs\u001b[39;00m \u001b[39mimport\u001b[39;00m Line\n\u001b[1;32m---> 46\u001b[0m \u001b[39mfrom\u001b[39;00m \u001b[39mbokeh\u001b[39;00m\u001b[39m.\u001b[39;00m\u001b[39mplotting\u001b[39;00m\u001b[39m.\u001b[39;00m\u001b[39mfigure\u001b[39;00m \u001b[39mimport\u001b[39;00m FigureOptions\n\u001b[0;32m     47\u001b[0m \u001b[39mfrom\u001b[39;00m \u001b[39mbokeh\u001b[39;00m\u001b[39m.\u001b[39;00m\u001b[39mlayouts\u001b[39;00m \u001b[39mimport\u001b[39;00m gridplot\n\u001b[0;32m     48\u001b[0m \u001b[39m# select a palette\u001b[39;00m\n",
      "\u001b[1;31mModuleNotFoundError\u001b[0m: No module named 'bokeh.plotting.figure'"
     ]
    }
   ],
   "source": [
    "# biosignalsnotebooks own package for loading and plotting the acquired data\n",
    "import biosignalsnotebooks as bsnb\n",
    "\n",
    "# Scientific packages\n",
    "from numpy import arange, sin, pi\n",
    "from numpy.random import randn"
   ]
  },
  {
   "cell_type": "code",
   "execution_count": null,
   "metadata": {},
   "outputs": [],
   "source": [
    "# Load of data\n",
    "data, header = bsnb.load(\"/Senales bitalino/Senal_basal_Muñoz.h5\", get_header=True)\n",
    "\n",
    "# The data file is loaded as a Python dictionary, where each key indicates the \n",
    "# channel of the acquisition. In the next line we get the channel where the \n",
    "# ECG data was acquired.\n",
    "channel = list(data.keys())[0]\n",
    "\n",
    "# The header is also in the form of a Python dictionary. The next line saves \n",
    "# the sampling frequency of the acquired data\n",
    "fs = header[\"sampling rate\"]\n",
    "# Resolution of the sensor (number of available bits)\n",
    "resolution = header['resolution'][0]\n",
    "\n",
    "# Signal Samples\n",
    "signal_raw = data[channel]\n",
    "time = bsnb.generate_time(signal_raw, fs)\n",
    "\n",
    "# Let's convert the signal's units, since we know it is a ECG signal\n",
    "signal = bsnb.raw_to_phy(\"ECG\", \"biosignalsplux\", signal_raw, resolution, \"mV\")\n",
    "\n",
    "# Creating a Butterworth filter with order 3 and low-pass frequency of 300 Hz\n",
    "lfilter_signal = bsnb.lowpass(signal, 300, order=3)\n",
    "filtfilt_signal = bsnb.lowpass(signal, 300, order=3, use_filtfilt=True)"
   ]
  },
  {
   "cell_type": "code",
   "execution_count": 4,
   "metadata": {},
   "outputs": [
    {
     "name": "stdout",
     "output_type": "stream",
     "text": [
      "Requirement already satisfied: biosignalsnotebooks in c:\\users\\mauri\\appdata\\local\\programs\\python\\python311\\lib\\site-packages (0.6.10)\n",
      "Requirement already satisfied: numpy in c:\\users\\mauri\\appdata\\local\\programs\\python\\python311\\lib\\site-packages (from biosignalsnotebooks) (1.24.2)\n",
      "Requirement already satisfied: matplotlib in c:\\users\\mauri\\appdata\\local\\programs\\python\\python311\\lib\\site-packages (from biosignalsnotebooks) (3.7.1)\n",
      "Requirement already satisfied: scipy in c:\\users\\mauri\\appdata\\local\\programs\\python\\python311\\lib\\site-packages (from biosignalsnotebooks) (1.10.1)\n",
      "Requirement already satisfied: h5py in c:\\users\\mauri\\appdata\\local\\programs\\python\\python311\\lib\\site-packages (from biosignalsnotebooks) (3.8.0)\n",
      "Requirement already satisfied: wget in c:\\users\\mauri\\appdata\\local\\programs\\python\\python311\\lib\\site-packages (from biosignalsnotebooks) (3.2)\n",
      "Requirement already satisfied: datetime in c:\\users\\mauri\\appdata\\local\\programs\\python\\python311\\lib\\site-packages (from biosignalsnotebooks) (5.1)\n",
      "Requirement already satisfied: bokeh>=1.4.0 in c:\\users\\mauri\\appdata\\local\\programs\\python\\python311\\lib\\site-packages (from biosignalsnotebooks) (3.1.0)\n",
      "Requirement already satisfied: IPython in c:\\users\\mauri\\appdata\\local\\programs\\python\\python311\\lib\\site-packages (from biosignalsnotebooks) (8.11.0)\n",
      "Requirement already satisfied: pandas in c:\\users\\mauri\\appdata\\local\\programs\\python\\python311\\lib\\site-packages (from biosignalsnotebooks) (1.5.3)\n",
      "Requirement already satisfied: nbformat in c:\\users\\mauri\\appdata\\local\\programs\\python\\python311\\lib\\site-packages (from biosignalsnotebooks) (5.8.0)\n",
      "Requirement already satisfied: requests in c:\\users\\mauri\\appdata\\local\\programs\\python\\python311\\lib\\site-packages (from biosignalsnotebooks) (2.28.2)\n",
      "Requirement already satisfied: libmagic in c:\\users\\mauri\\appdata\\local\\programs\\python\\python311\\lib\\site-packages (from biosignalsnotebooks) (1.0)\n",
      "Requirement already satisfied: python-magic-bin in c:\\users\\mauri\\appdata\\local\\programs\\python\\python311\\lib\\site-packages (from biosignalsnotebooks) (0.4.14)\n",
      "Requirement already satisfied: Jinja2>=2.9 in c:\\users\\mauri\\appdata\\local\\programs\\python\\python311\\lib\\site-packages (from bokeh>=1.4.0->biosignalsnotebooks) (3.1.2)\n",
      "Requirement already satisfied: contourpy>=1 in c:\\users\\mauri\\appdata\\local\\programs\\python\\python311\\lib\\site-packages (from bokeh>=1.4.0->biosignalsnotebooks) (1.0.7)\n",
      "Requirement already satisfied: packaging>=16.8 in c:\\users\\mauri\\appdata\\local\\programs\\python\\python311\\lib\\site-packages (from bokeh>=1.4.0->biosignalsnotebooks) (23.0)\n",
      "Requirement already satisfied: pillow>=7.1.0 in c:\\users\\mauri\\appdata\\local\\programs\\python\\python311\\lib\\site-packages (from bokeh>=1.4.0->biosignalsnotebooks) (9.4.0)\n",
      "Requirement already satisfied: PyYAML>=3.10 in c:\\users\\mauri\\appdata\\local\\programs\\python\\python311\\lib\\site-packages (from bokeh>=1.4.0->biosignalsnotebooks) (6.0)\n",
      "Requirement already satisfied: tornado>=5.1 in c:\\users\\mauri\\appdata\\local\\programs\\python\\python311\\lib\\site-packages (from bokeh>=1.4.0->biosignalsnotebooks) (6.2)\n",
      "Requirement already satisfied: xyzservices>=2021.09.1 in c:\\users\\mauri\\appdata\\local\\programs\\python\\python311\\lib\\site-packages (from bokeh>=1.4.0->biosignalsnotebooks) (2023.2.0)\n",
      "Requirement already satisfied: python-dateutil>=2.8.1 in c:\\users\\mauri\\appdata\\local\\programs\\python\\python311\\lib\\site-packages (from pandas->biosignalsnotebooks) (2.8.2)\n",
      "Requirement already satisfied: pytz>=2020.1 in c:\\users\\mauri\\appdata\\local\\programs\\python\\python311\\lib\\site-packages (from pandas->biosignalsnotebooks) (2022.7.1)\n",
      "Requirement already satisfied: zope.interface in c:\\users\\mauri\\appdata\\local\\programs\\python\\python311\\lib\\site-packages (from datetime->biosignalsnotebooks) (6.0)\n",
      "Requirement already satisfied: backcall in c:\\users\\mauri\\appdata\\local\\programs\\python\\python311\\lib\\site-packages (from IPython->biosignalsnotebooks) (0.2.0)\n",
      "Requirement already satisfied: decorator in c:\\users\\mauri\\appdata\\local\\programs\\python\\python311\\lib\\site-packages (from IPython->biosignalsnotebooks) (5.1.1)\n",
      "Requirement already satisfied: jedi>=0.16 in c:\\users\\mauri\\appdata\\local\\programs\\python\\python311\\lib\\site-packages (from IPython->biosignalsnotebooks) (0.18.2)\n",
      "Requirement already satisfied: matplotlib-inline in c:\\users\\mauri\\appdata\\local\\programs\\python\\python311\\lib\\site-packages (from IPython->biosignalsnotebooks) (0.1.6)\n",
      "Requirement already satisfied: pickleshare in c:\\users\\mauri\\appdata\\local\\programs\\python\\python311\\lib\\site-packages (from IPython->biosignalsnotebooks) (0.7.5)\n",
      "Requirement already satisfied: prompt-toolkit!=3.0.37,<3.1.0,>=3.0.30 in c:\\users\\mauri\\appdata\\local\\programs\\python\\python311\\lib\\site-packages (from IPython->biosignalsnotebooks) (3.0.38)\n",
      "Requirement already satisfied: pygments>=2.4.0 in c:\\users\\mauri\\appdata\\local\\programs\\python\\python311\\lib\\site-packages (from IPython->biosignalsnotebooks) (2.14.0)\n",
      "Requirement already satisfied: stack-data in c:\\users\\mauri\\appdata\\local\\programs\\python\\python311\\lib\\site-packages (from IPython->biosignalsnotebooks) (0.6.2)\n",
      "Requirement already satisfied: traitlets>=5 in c:\\users\\mauri\\appdata\\local\\programs\\python\\python311\\lib\\site-packages (from IPython->biosignalsnotebooks) (5.9.0)\n",
      "Requirement already satisfied: colorama in c:\\users\\mauri\\appdata\\local\\programs\\python\\python311\\lib\\site-packages (from IPython->biosignalsnotebooks) (0.4.6)\n",
      "Requirement already satisfied: cycler>=0.10 in c:\\users\\mauri\\appdata\\local\\programs\\python\\python311\\lib\\site-packages (from matplotlib->biosignalsnotebooks) (0.11.0)\n",
      "Requirement already satisfied: fonttools>=4.22.0 in c:\\users\\mauri\\appdata\\local\\programs\\python\\python311\\lib\\site-packages (from matplotlib->biosignalsnotebooks) (4.39.2)\n",
      "Requirement already satisfied: kiwisolver>=1.0.1 in c:\\users\\mauri\\appdata\\local\\programs\\python\\python311\\lib\\site-packages (from matplotlib->biosignalsnotebooks) (1.4.4)\n",
      "Requirement already satisfied: pyparsing>=2.3.1 in c:\\users\\mauri\\appdata\\local\\programs\\python\\python311\\lib\\site-packages (from matplotlib->biosignalsnotebooks) (3.0.9)\n",
      "Requirement already satisfied: fastjsonschema in c:\\users\\mauri\\appdata\\local\\programs\\python\\python311\\lib\\site-packages (from nbformat->biosignalsnotebooks) (2.16.3)\n",
      "Requirement already satisfied: jsonschema>=2.6 in c:\\users\\mauri\\appdata\\local\\programs\\python\\python311\\lib\\site-packages (from nbformat->biosignalsnotebooks) (4.17.3)\n",
      "Requirement already satisfied: jupyter-core in c:\\users\\mauri\\appdata\\local\\programs\\python\\python311\\lib\\site-packages (from nbformat->biosignalsnotebooks) (5.3.0)\n",
      "Requirement already satisfied: charset-normalizer<4,>=2 in c:\\users\\mauri\\appdata\\local\\programs\\python\\python311\\lib\\site-packages (from requests->biosignalsnotebooks) (3.1.0)\n",
      "Requirement already satisfied: idna<4,>=2.5 in c:\\users\\mauri\\appdata\\local\\programs\\python\\python311\\lib\\site-packages (from requests->biosignalsnotebooks) (3.4)\n",
      "Requirement already satisfied: urllib3<1.27,>=1.21.1 in c:\\users\\mauri\\appdata\\local\\programs\\python\\python311\\lib\\site-packages (from requests->biosignalsnotebooks) (1.26.15)\n",
      "Requirement already satisfied: certifi>=2017.4.17 in c:\\users\\mauri\\appdata\\local\\programs\\python\\python311\\lib\\site-packages (from requests->biosignalsnotebooks) (2022.12.7)\n",
      "Requirement already satisfied: parso<0.9.0,>=0.8.0 in c:\\users\\mauri\\appdata\\local\\programs\\python\\python311\\lib\\site-packages (from jedi>=0.16->IPython->biosignalsnotebooks) (0.8.3)\n",
      "Requirement already satisfied: MarkupSafe>=2.0 in c:\\users\\mauri\\appdata\\local\\programs\\python\\python311\\lib\\site-packages (from Jinja2>=2.9->bokeh>=1.4.0->biosignalsnotebooks) (2.1.2)\n",
      "Requirement already satisfied: attrs>=17.4.0 in c:\\users\\mauri\\appdata\\local\\programs\\python\\python311\\lib\\site-packages (from jsonschema>=2.6->nbformat->biosignalsnotebooks) (22.2.0)\n",
      "Requirement already satisfied: pyrsistent!=0.17.0,!=0.17.1,!=0.17.2,>=0.14.0 in c:\\users\\mauri\\appdata\\local\\programs\\python\\python311\\lib\\site-packages (from jsonschema>=2.6->nbformat->biosignalsnotebooks) (0.19.3)\n",
      "Requirement already satisfied: wcwidth in c:\\users\\mauri\\appdata\\local\\programs\\python\\python311\\lib\\site-packages (from prompt-toolkit!=3.0.37,<3.1.0,>=3.0.30->IPython->biosignalsnotebooks) (0.2.6)\n",
      "Requirement already satisfied: six>=1.5 in c:\\users\\mauri\\appdata\\local\\programs\\python\\python311\\lib\\site-packages (from python-dateutil>=2.8.1->pandas->biosignalsnotebooks) (1.16.0)\n",
      "Requirement already satisfied: platformdirs>=2.5 in c:\\users\\mauri\\appdata\\local\\programs\\python\\python311\\lib\\site-packages (from jupyter-core->nbformat->biosignalsnotebooks) (3.1.1)\n",
      "Requirement already satisfied: pywin32>=300 in c:\\users\\mauri\\appdata\\local\\programs\\python\\python311\\lib\\site-packages (from jupyter-core->nbformat->biosignalsnotebooks) (305)\n",
      "Requirement already satisfied: executing>=1.2.0 in c:\\users\\mauri\\appdata\\local\\programs\\python\\python311\\lib\\site-packages (from stack-data->IPython->biosignalsnotebooks) (1.2.0)\n",
      "Requirement already satisfied: asttokens>=2.1.0 in c:\\users\\mauri\\appdata\\local\\programs\\python\\python311\\lib\\site-packages (from stack-data->IPython->biosignalsnotebooks) (2.2.1)\n",
      "Requirement already satisfied: pure-eval in c:\\users\\mauri\\appdata\\local\\programs\\python\\python311\\lib\\site-packages (from stack-data->IPython->biosignalsnotebooks) (0.2.2)\n",
      "Requirement already satisfied: setuptools in c:\\users\\mauri\\appdata\\local\\programs\\python\\python311\\lib\\site-packages (from zope.interface->datetime->biosignalsnotebooks) (65.5.0)\n",
      "Note: you may need to restart the kernel to use updated packages.\n"
     ]
    }
   ],
   "source": [
    "pip install biosignalsnotebooks"
   ]
  },
  {
   "cell_type": "code",
   "execution_count": null,
   "metadata": {},
   "outputs": [],
   "source": []
  }
 ],
 "metadata": {
  "kernelspec": {
   "display_name": "Python 3",
   "language": "python",
   "name": "python3"
  },
  "language_info": {
   "codemirror_mode": {
    "name": "ipython",
    "version": 3
   },
   "file_extension": ".py",
   "mimetype": "text/x-python",
   "name": "python",
   "nbconvert_exporter": "python",
   "pygments_lexer": "ipython3",
   "version": "3.11.2"
  },
  "orig_nbformat": 4
 },
 "nbformat": 4,
 "nbformat_minor": 2
}
